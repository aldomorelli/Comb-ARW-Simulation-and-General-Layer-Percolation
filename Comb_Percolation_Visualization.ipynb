{
 "cells": [
  {
   "cell_type": "code",
   "execution_count": 1,
   "id": "4a8f9d93-6663-48a2-846d-206595c8150b",
   "metadata": {},
   "outputs": [],
   "source": [
    "import random\n",
    "import numpy as np\n",
    "import matplotlib.pyplot as plt"
   ]
  },
  {
   "cell_type": "code",
   "execution_count": 2,
   "id": "79048b93-6deb-4b14-88d8-12f9e3c0077c",
   "metadata": {},
   "outputs": [],
   "source": [
    "#Function for offsetting shape associated to each cell\n",
    "def get_offsets(cell, shape):\n",
    "    offset_cells = []\n",
    "    for shape_cell in shape:\n",
    "        #For each cell in the shape, take the right coordinate from the shape, take the sleep coordinate from both the shape and the cell\n",
    "        offset_cells.append(tuple(np.array([shape_cell[0], shape_cell[1]])+np.array([0, cell[1]])))\n",
    "    return offset_cells"
   ]
  },
  {
   "cell_type": "code",
   "execution_count": 3,
   "id": "0da26e96-2465-4954-a5f2-deac26043329",
   "metadata": {},
   "outputs": [],
   "source": [
    "def partition_into_layers(newly_invaded_cells):\n",
    "    flat_list = []\n",
    "    num_layers = 0\n",
    "    for list in newly_invaded_cells:\n",
    "        for element in list:\n",
    "            #Find the largest layer in the set of newly invaded cells\n",
    "            if element[0]+element[1] > num_layers:\n",
    "                num_layers = element[0]+element[1]\n",
    "            flat_list.append(element)\n",
    "\n",
    "    invaded_layers = []\n",
    "    \n",
    "    for layer in range(num_layers+1):\n",
    "        layer_i = []\n",
    "        for cell in flat_list:\n",
    "            #Only add a cell if it's not already in the layer, so we are not keeping repeat cells\n",
    "            if cell[0]+cell[1] == layer and (cell[0], cell[1]) not in layer_i:\n",
    "                layer_i.append((cell[0], cell[1]))\n",
    "        invaded_layers.append(layer_i)   \n",
    "    return invaded_layers"
   ]
  },
  {
   "cell_type": "code",
   "execution_count": 4,
   "id": "46a4936e-be92-4f42-8798-7bf98d20509a",
   "metadata": {},
   "outputs": [],
   "source": [
    "def run_comb_percolation_step(invaded_cells, sleep_rate):\n",
    "    tooth_instruction_stack = ''\n",
    "    spine_instruction_stack = ''\n",
    "    newly_invaded_cells = []\n",
    "    #Assumes invaded_cells is an array of diagonals containing cells\n",
    "    num_layers = len(invaded_cells)\n",
    "    shape_array = []\n",
    "    r_counter = 0\n",
    "    for i in range(num_layers):\n",
    "        #Each shape starts with the 0th cell. This is if \n",
    "        shape_i = []\n",
    "        #Number of U's between successive L's \n",
    "        u_i = np.random.geometric(1/2) - 1\n",
    "        #Counting the spaces to need one more than the number of U's\n",
    "        for j in range(u_i+1):\n",
    "            #Inheritance\n",
    "            if i == 0 or j != 0:\n",
    "                tooth_sleep_indicator = 0\n",
    "                l = random.random()\n",
    "                #Check if there is a sleep before the next down instruction in the tooth stack\n",
    "                if l < sleep_rate/(1+sleep_rate):\n",
    "                    tooth_instruction_stack += 'S'\n",
    "                    tooth_sleep_indicator = 1\n",
    "                tooth_instruction_stack += 'D'\n",
    "            #Number of R's between sucessive U's\n",
    "            r_j = np.random.geometric(2/3)-1\n",
    "            #Counting the spaces so need one more than the number of R's\n",
    "            for k in range(r_j+1):\n",
    "                #Dont want duplicate cells for clarity\n",
    "                if (r_counter, 0) not in shape_i:\n",
    "                    shape_i.append((r_counter, 0))\n",
    "                if (r_counter, tooth_sleep_indicator) not in shape_i:\n",
    "                    shape_i.append((r_counter, tooth_sleep_indicator))\n",
    "            \n",
    "                spine_sleep_indicator = 0\n",
    "                l = random.random()\n",
    "                if l < sleep_rate/(1+sleep_rate):\n",
    "                    spine_sleep_indicator = 1\n",
    "                    spine_instruction_stack += 'S'\n",
    "                    \n",
    "                if (r_counter, spine_sleep_indicator) not in shape_i:\n",
    "                    shape_i.append((r_counter, spine_sleep_indicator))\n",
    "                if (r_counter, spine_sleep_indicator+tooth_sleep_indicator) not in shape_i:\n",
    "                    shape_i.append((r_counter, spine_sleep_indicator + tooth_sleep_indicator))\n",
    "                \n",
    "                if k != 0:\n",
    "                    spine_instruction_stack += 'R'\n",
    "                #Increment the number of R's which have been used so far\n",
    "                r_counter += 1\n",
    "            if j != 0:\n",
    "                spine_instruction_stack += 'U'\n",
    "            #Overcounted the number of R's, so subtract one\n",
    "            r_counter -= 1\n",
    "        shape_array.append(shape_i)\n",
    "        spine_instruction_stack += 'L'\n",
    "    \n",
    "    for i, diagonal in enumerate(invaded_cells):\n",
    "        shape_i = shape_array[i]\n",
    "        for cell in diagonal:\n",
    "            offset_cells = get_offsets(cell, shape_i)\n",
    "            newly_invaded_cells.append(offset_cells)\n",
    "    \n",
    "    newly_invaded_cells = partition_into_layers(newly_invaded_cells)\n",
    "    return [tooth_instruction_stack, spine_instruction_stack, newly_invaded_cells]"
   ]
  },
  {
   "cell_type": "code",
   "execution_count": 5,
   "id": "ad5c3e6a-3e1f-4399-aa96-f8c398a92047",
   "metadata": {},
   "outputs": [
    {
     "name": "stdout",
     "output_type": "stream",
     "text": [
      "Iteration: 24\r"
     ]
    }
   ],
   "source": [
    "invaded_cells = [[(0,0)]]\n",
    "for i in range(25):\n",
    "    print(\"Iteration: \"+str(i), end=\"\\r\")\n",
    "    [tooth_instruction_stack, spine_instruction_stack, invaded_cells] = run_comb_percolation_step(invaded_cells, 1)"
   ]
  },
  {
   "cell_type": "code",
   "execution_count": 8,
   "id": "4c72ffd8-72b8-42da-bd79-dea8ef642f7d",
   "metadata": {},
   "outputs": [
    {
     "data": {
      "image/png": "[encoded data removed]",
      "text/plain": [
       "<Figure size 640x480 with 1 Axes>"
      ]
     },
     "metadata": {},
     "output_type": "display_data"
    }
   ],
   "source": [
    "points = [pt for group in invaded_cells for pt in group]\n",
    "\n",
    "# Find max x and y to size the array\n",
    "max_x = max(p[0] for p in points)\n",
    "max_y = max(p[1] for p in points)\n",
    "\n",
    "# Create 2D numpy array with ones\n",
    "pixel_array = np.ones((max_y + 1, max_x + 1))  # shape = (rows=y, cols=x)\n",
    "\n",
    "# Fill array at each coordinate with 0\n",
    "for x, y in points:\n",
    "    pixel_array[y, x] = 0  # Note: y is row, x is column\n",
    "\n",
    "# Plot with imshow, no interpolation for pixelated look\n",
    "plt.figure()\n",
    "plt.imshow(pixel_array, cmap='gray', interpolation='nearest', origin='lower')\n",
    "plt.xlabel(\"$r$\")\n",
    "plt.ylabel(\"$s+s'$\")\n",
    "plt.savefig('CombPercolationPlot25.png', bbox_inches='tight', dpi=300)\n",
    "plt.show()\n",
    "\n"
   ]
  }
 ],
 "metadata": {
  "kernelspec": {
   "display_name": "Python 3 (ipykernel)",
   "language": "python",
   "name": "python3"
  },
  "language_info": {
   "codemirror_mode": {
    "name": "ipython",
    "version": 3
   },
   "file_extension": ".py",
   "mimetype": "text/x-python",
   "name": "python",
   "nbconvert_exporter": "python",
   "pygments_lexer": "ipython3",
   "version": "3.12.2"
  }
 },
 "nbformat": 4,
 "nbformat_minor": 5
}
