{
 "cells": [
  {
   "cell_type": "markdown",
   "id": "b62d73bf-22b7-434b-9fd8-cbbf972219d4",
   "metadata": {},
   "source": [
    "## Introduction ##\n",
    "\n",
    "This Jupyter notebook is designed to simulate the dynamics of the activated random walk on the interval and on the comb. We sample the stationary distribution by first stabalizing the configuration with one active particle per site, and then using central driving with one particle to sample again. We choose to represent the comb and interval as arrays, with each site corresponding to an entry of the array. Entries of -1 to represent sleeping particles at the corresponding site, and other natural numbers record the number of particles at a given site.    "
   ]
  },
  {
   "cell_type": "code",
   "execution_count": 1,
   "id": "cabbf020-7b61-446d-ae9b-027277ac918f",
   "metadata": {},
   "outputs": [],
   "source": [
    "import random\n",
    "import numpy as np\n",
    "from tqdm import tqdm\n",
    "import matplotlib.pyplot as plt\n",
    "import cProfile"
   ]
  },
  {
   "cell_type": "code",
   "execution_count": 75,
   "id": "d869e656-8e06-4ef3-bd08-68abe15f3205",
   "metadata": {},
   "outputs": [],
   "source": [
    "#Helper method for choosing 1 of 3 options. This is called a lot so we want it to be fast. \n",
    "def rand3():\n",
    "    #Find a random integer from 0,1,2. Supposedly fast?\n",
    "    while True:\n",
    "        r = random.getrandbits(2)\n",
    "        if r < 3:\n",
    "            return r"
   ]
  },
  {
   "cell_type": "markdown",
   "id": "4238480f-2898-4976-8f0f-23d103dcf406",
   "metadata": {},
   "source": [
    "## The Interval ##"
   ]
  },
  {
   "cell_type": "code",
   "execution_count": 76,
   "id": "253144ee-d9b2-4e27-9b59-41a5e35c14f9",
   "metadata": {},
   "outputs": [],
   "source": [
    "#Function for adding a particle to the interval. Returns true only if the particle fell into a sink. \n",
    "def add_particle_to_interval(interval, index_col):\n",
    "    length = interval.shape[0]\n",
    "    #If the index we want to move to is outside the length of the interval, we moved into a sink, so do nothing\n",
    "    if index_col >= length or index_col< 0:\n",
    "        #If the particle fell off, we want to find a new active particle\n",
    "        return True\n",
    "    #If the site we moved into has a sleeping particle, wake it up so we have 2 active particles in it. \n",
    "    elif interval[index_col] == -1:\n",
    "        interval[index_col] = 2\n",
    "        #We can keep tracking this active particle.\n",
    "        return False\n",
    "    #Otherwise we have one more active particle. \n",
    "    else:\n",
    "        interval[index_col] += 1\n",
    "        #We can keep tracking this active particle.\n",
    "        return False"
   ]
  },
  {
   "cell_type": "code",
   "execution_count": 77,
   "id": "febb85f9-a01d-4d6b-84ff-67b91b30ef2b",
   "metadata": {},
   "outputs": [],
   "source": [
    "#Function for stabalizing the interval, returns nothing but changes the interval array passed as an argument\n",
    "def stabalize_interval(interval, sleep_rate):\n",
    "    #We begin by searching for the index of an active particle\n",
    "    searching_for_index = True\n",
    "    #Loop while there are still active particles in the interval\n",
    "    while(True):\n",
    "        #If we are not already tracking an active particle, look for a new one\n",
    "        if searching_for_index:\n",
    "            #Find the index of the first site with at least one active particle. If no such index exists we are stable, and so exit. \n",
    "            positive_indices = np.flatnonzero(interval > 0)\n",
    "            if positive_indices.size > 0:\n",
    "                active_index = positive_indices[0]\n",
    "                #Found a new active particle to track\n",
    "                searching_for_index = False\n",
    "            else:\n",
    "                return interval\n",
    "\n",
    "        #If only one particle is in the active site, it can fall asleep \n",
    "        if interval[active_index] == 1:\n",
    "            #r is drawn uniformly from (0,1)\n",
    "            r = random.random()\n",
    "            #If r is small enough (< lambda/(1+lambda)) the particle falls alseep\n",
    "            if r < sleep_rate/(1+sleep_rate):\n",
    "                #Particle is asleep, so the value at the site is -1\n",
    "                interval[active_index] = -1\n",
    "                #Particle fell asleep, so need to find new active particle to track\n",
    "                searching_for_index = True\n",
    "            else:\n",
    "                #If our only active particle moved, we set the entry in the site to 0\n",
    "                interval[active_index] = 0\n",
    "                #Pick a random direction\n",
    "                if bool(random.getrandbits(1)):\n",
    "                    #Moved to the right, so increment the index by 1\n",
    "                    active_index += 1\n",
    "                    searching_for_index = add_particle_to_interval(interval, active_index)\n",
    "                else:\n",
    "                    #Moved to the left, so decrement the index by 1\n",
    "                    active_index -= 1\n",
    "                    searching_for_index = add_particle_to_interval(interval, active_index)\n",
    "        #If multiple active particles, one must move\n",
    "        else:  \n",
    "            #Particle moved so reduce the number by 1\n",
    "            interval[active_index] -= 1\n",
    "            #Move right\n",
    "            if bool(random.getrandbits(1)):\n",
    "                active_index += 1\n",
    "                searching_for_index = add_particle_to_interval(interval, active_index)\n",
    "            #Move left\n",
    "            else:\n",
    "                active_index -= 1\n",
    "                searching_for_index = add_particle_to_interval(interval, active_index)"
   ]
  },
  {
   "cell_type": "code",
   "execution_count": 78,
   "id": "55b1c291-4e12-42ab-a45a-3ae8bbb30614",
   "metadata": {},
   "outputs": [],
   "source": [
    "def run_simulation_interval(interval_length, sleep_rate, num_trials):\n",
    "    #Start with an estimate of 0 for the density. \n",
    "    interval_density = 0\n",
    "    #The interval begins with active particles at each site\n",
    "    interval = np.ones(interval_length)\n",
    "    #Progress bar so we know about how long things will take\n",
    "    for _ in tqdm(range(num_trials), desc=f\"Running trials (L={interval_length}, r={sleep_rate})\", leave=False):\n",
    "        stabalize_interval(interval, sleep_rate)\n",
    "        #The density is the number of sleeping particles divided by the length, sleeping particles are represented by -1\n",
    "        #-= as we are summing -1 for each sleeping particle left\n",
    "        interval_density -= np.sum(interval)/interval_length\n",
    "        #Add an active particle in the center. \n",
    "        add_particle_to_interval(interval, int(interval_length/2))\n",
    "    #Return the average density over the trials\n",
    "    return interval_density/num_trials"
   ]
  },
  {
   "cell_type": "code",
   "execution_count": 79,
   "id": "b8b0d1f3-6ec4-4b98-bb34-15ee2fd2ae2e",
   "metadata": {},
   "outputs": [],
   "source": [
    "def generate_data_interval(interval_lengths, sleep_rates, num_trials_each):\n",
    "    data = np.zeros((len(interval_lengths), len(sleep_rates)))\n",
    "    #Loop over parameters and run simulations\n",
    "    for i, length in enumerate(interval_lengths):\n",
    "        for j, sleep_rate in enumerate(sleep_rates):\n",
    "            data[i, j] = run_simulation_interval(length, sleep_rate, num_trials_each)\n",
    "    return data"
   ]
  },
  {
   "cell_type": "markdown",
   "id": "9c254f17-6d67-45d5-bd28-573353b5e232",
   "metadata": {},
   "source": [
    "## The Comb ##"
   ]
  },
  {
   "cell_type": "code",
   "execution_count": 80,
   "id": "c7f6487c-fa69-43ca-8681-7daf8cfa644a",
   "metadata": {},
   "outputs": [],
   "source": [
    "#Function for adding particle to the comb. Returns true only if the particle fell into a sink \n",
    "def add_particle_to_comb(comb, index_row, index_col):\n",
    "    length = comb.shape[1]\n",
    "    #If the index we want to move to is outside the length of the comb, we moved into a sink, so do nothing\n",
    "    if index_col >= length or index_col< 0:\n",
    "        #If the particle fell off, we want to find a new active particle\n",
    "        return True\n",
    "    #If the site we moved into has a sleeping particle, wake it up so we have 2 active particles in it. \n",
    "    elif comb[index_row, index_col] == -1:\n",
    "        comb[index_row, index_col] = 2\n",
    "        #We can keep tracking this active particle.\n",
    "        return False\n",
    "    #Otherwise we have one more active particle. \n",
    "    else:\n",
    "        comb[index_row, index_col] += 1\n",
    "        #We can keep tracking this active particle.\n",
    "        return False"
   ]
  },
  {
   "cell_type": "code",
   "execution_count": 81,
   "id": "f70d4694-2dcb-4ced-8f29-49c781d6f8fc",
   "metadata": {},
   "outputs": [],
   "source": [
    "def sample_stationary_distribution_comb(comb, sleep_rate):\n",
    "    #Start out searching for an active particle\n",
    "    searching_for_index = True\n",
    "    while(True):\n",
    "        #This is expensive, so don't want to run it unless we have to\n",
    "        if searching_for_index:\n",
    "            #Find the index of the first site with at least one active particle. If no such index exists we are stable, and so exit. \n",
    "            positive_indices = np.flatnonzero(comb > 0)\n",
    "            if positive_indices.size > 0:\n",
    "                active_index = np.unravel_index(positive_indices[0], comb.shape)\n",
    "                #Once we find an active particle, want to keep tracking it until it falls off or falls asleep\n",
    "                searching_for_index = False\n",
    "            else:\n",
    "                return comb\n",
    "        #If only one particle is in the active site, it can fall asleep \n",
    "        if comb[active_index] == 1:\n",
    "            r = random.random()\n",
    "            #Entry of -1 means sleeping particle\n",
    "            if r < sleep_rate/(1+sleep_rate):\n",
    "                comb[active_index] = -1\n",
    "                #If a particle falls alseep, we want to find a new active particle to track\n",
    "                searching_for_index = True\n",
    "            else:\n",
    "                #If our only active particle moved, we set the entry in the site to 0\n",
    "                comb[active_index] = 0\n",
    "                #If we are in the tooth, the only place to go is down\n",
    "                if active_index[0] == 0:\n",
    "                    active_index = (active_index[0] + 1, active_index[1])\n",
    "                    searching_for_index = add_particle_to_comb(comb, active_index[0], active_index[1])\n",
    "                else:\n",
    "                    #Otherwise pick a random direction to move in\n",
    "                    direction = rand3()\n",
    "                    #Move up\n",
    "                    if direction == 0:\n",
    "                        active_index = (active_index[0] - 1, active_index[1])\n",
    "                        searching_for_index = add_particle_to_comb(comb, active_index[0], active_index[1])\n",
    "                    #Move right\n",
    "                    elif direction == 1:\n",
    "                        active_index = (active_index[0], active_index[1] + 1)\n",
    "                        searching_for_index = add_particle_to_comb(comb, active_index[0], active_index[1])\n",
    "                    #Move left\n",
    "                    elif direction == 2:\n",
    "                        active_index = (active_index[0], active_index[1] - 1)\n",
    "                        searching_for_index = add_particle_to_comb(comb, active_index[0], active_index[1])\n",
    "        #If multiple active particles, one must move\n",
    "        else:  \n",
    "            #Particle moved so reduce the number by 1\n",
    "            comb[active_index] -= 1\n",
    "            #If in the tooth must move down. \n",
    "            if active_index[0] == 0:\n",
    "                    active_index = (active_index[0] + 1, active_index[1])\n",
    "                    searching_for_index = add_particle_to_comb(comb, active_index[0], active_index[1])\n",
    "            else:\n",
    "                #Pick a random direction to move\n",
    "                direction = rand3()\n",
    "                if direction == 0:\n",
    "                    active_index = (active_index[0] - 1, active_index[1])\n",
    "                    searching_for_index = add_particle_to_comb(comb, active_index[0], active_index[1])\n",
    "                elif direction == 1:\n",
    "                    active_index = (active_index[0], active_index[1] + 1)\n",
    "                    searching_for_index = add_particle_to_comb(comb, active_index[0], active_index[1])\n",
    "                elif direction == 2:\n",
    "                    active_index = (active_index[0], active_index[1] - 1)\n",
    "                    searching_for_index = add_particle_to_comb(comb, active_index[0], active_index[1])"
   ]
  },
  {
   "cell_type": "code",
   "execution_count": 82,
   "id": "84df9963-63b3-4105-8e7f-0bd0bb225ff1",
   "metadata": {},
   "outputs": [],
   "source": [
    "def run_simulation_comb(comb_length, sleep_rate, num_trials):\n",
    "    #Record these densities seperately\n",
    "    tooth_density = 0\n",
    "    spine_density = 0\n",
    "    comb = np.ones((2, comb_length))\n",
    "    for _ in tqdm(range(num_trials), desc=f\"Running trials (L={comb_length}, r={sleep_rate})\", leave=False):\n",
    "        sample_stationary_distribution_comb(comb, sleep_rate)\n",
    "        #Minus as we are summing -1 for each sleeping particle left\n",
    "        tooth_density -= np.sum(comb[0])/comb_length\n",
    "        spine_density -= np.sum(comb[1])/comb_length\n",
    "        #Add a particle in row 1 (the spine) in the center. \n",
    "        add_particle_to_comb(comb, 1, int(comb_length/2))\n",
    "    return [tooth_density / num_trials, spine_density/num_trials]"
   ]
  },
  {
   "cell_type": "code",
   "execution_count": 83,
   "id": "0561896d-2245-49c3-83b1-3ca0c65eee86",
   "metadata": {},
   "outputs": [],
   "source": [
    "def generate_data_comb(comb_lengths, sleep_rates, num_trials_each):\n",
    "    data = np.zeros((len(comb_lengths), len(sleep_rates), 2))\n",
    "    for i, length in enumerate(comb_lengths):\n",
    "        for j, sleep_rate in enumerate(sleep_rates):\n",
    "            data[i, j, :] = run_simulation_comb(length, sleep_rate, num_trials_each)\n",
    "    return data"
   ]
  },
  {
   "cell_type": "markdown",
   "id": "e605c08f-2682-4706-8341-b349abd46491",
   "metadata": {},
   "source": [
    "## Running Trials ## "
   ]
  },
  {
   "cell_type": "code",
   "execution_count": 71,
   "id": "b7ec24ab-9c40-4553-9e9f-e6c62470ee76",
   "metadata": {},
   "outputs": [
    {
     "name": "stderr",
     "output_type": "stream",
     "text": [
      "                                                                                                                       \r"
     ]
    }
   ],
   "source": [
    "comb_lengths = [250]\n",
    "sleep_rates = np.arange(0.1, 1.5, 0.1)\n",
    "num_trials = 1000\n",
    "comb_data = generate_data_comb(comb_lengths, sleep_rates, num_trials)\n",
    "interval_data = generate_data_interval(comb_lengths, sleep_rates, num_trials)"
   ]
  },
  {
   "cell_type": "markdown",
   "id": "f4d5f28f-fdf3-4a17-9870-3d10b02ba742",
   "metadata": {},
   "source": [
    "## Plotting ## "
   ]
  },
  {
   "cell_type": "code",
   "execution_count": 73,
   "id": "69172a11-7cc7-4c3d-8cba-21136eac7f81",
   "metadata": {},
   "outputs": [
    {
     "data": {
      "image/png": "[encoded data removed]",
      "text/plain": [
       "<Figure size 640x480 with 1 Axes>"
      ]
     },
     "metadata": {},
     "output_type": "display_data"
    }
   ],
   "source": [
    "plt.plot(sleep_rates, comb_data[0, :, 0], color='r', label='Tooth Densities for n=250')\n",
    "plt.plot(sleep_rates, comb_data[0, :, 1], color='g', label='Spine Densities for n=250')\n",
    "plt.plot(sleep_rates, interval_data[0, :], color='b', label='Interval Densities for n=250')\n",
    "\n",
    "plt.xlabel(\"Sleep Rate\")\n",
    "plt.ylabel(\"Density\")\n",
    "plt.title(\"Average Comb and Interval ARW Densities for $n=250$ over 1000 Trials\")\n",
    "\n",
    "plt.legend()\n",
    "\n",
    "plt.show()\n",
    "plt.close()"
   ]
  }
 ],
 "metadata": {
  "kernelspec": {
   "display_name": "Python 3 (ipykernel)",
   "language": "python",
   "name": "python3"
  },
  "language_info": {
   "codemirror_mode": {
    "name": "ipython",
    "version": 3
   },
   "file_extension": ".py",
   "mimetype": "text/x-python",
   "name": "python",
   "nbconvert_exporter": "python",
   "pygments_lexer": "ipython3",
   "version": "3.12.2"
  }
 },
 "nbformat": 4,
 "nbformat_minor": 5
}
