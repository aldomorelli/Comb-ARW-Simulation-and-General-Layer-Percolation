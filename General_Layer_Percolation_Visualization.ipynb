{
 "cells": [
  {
   "cell_type": "markdown",
   "id": "4170eca4-3def-4e5b-9f2e-e0493062c495",
   "metadata": {},
   "source": [
    "## Introduction ##\n",
    "\n",
    "This notebook is designed to simulate the general layer percolation process. "
   ]
  },
  {
   "cell_type": "code",
   "execution_count": 1,
   "id": "4a8f9d93-6663-48a2-846d-206595c8150b",
   "metadata": {},
   "outputs": [],
   "source": [
    "import random\n",
    "import numpy as np\n",
    "import matplotlib.pyplot as plt"
   ]
  },
  {
   "cell_type": "markdown",
   "id": "a962a400-e50e-4aed-82e7-cb7eef8b81f6",
   "metadata": {},
   "source": [
    "## Simulation ##"
   ]
  },
  {
   "cell_type": "code",
   "execution_count": 2,
   "id": "79048b93-6deb-4b14-88d8-12f9e3c0077c",
   "metadata": {},
   "outputs": [],
   "source": [
    "#Function for offsetting shape associated to each cell\n",
    "def get_offsets(right_offset, cell, shape):\n",
    "    offset_cells = []\n",
    "    for shape_cell in shape:\n",
    "        #For each cell in the shape, take the right coordinate from the shape, take the sleep coordinate from both the shape and the cell\n",
    "        offset_cells.append(tuple(np.array([shape_cell[0], shape_cell[1]])+np.array([right_offset, cell[1]])))\n",
    "    return offset_cells"
   ]
  },
  {
   "cell_type": "code",
   "execution_count": 3,
   "id": "f8d52934-fa78-4c02-ade6-8631eab11ac5",
   "metadata": {},
   "outputs": [],
   "source": [
    "#Function to determine the width of a shape\n",
    "def width(shape):\n",
    "    width = 0\n",
    "    for cell in shape:\n",
    "        if cell[0] > width:\n",
    "            width = cell[0]\n",
    "    return width+1"
   ]
  },
  {
   "cell_type": "code",
   "execution_count": 4,
   "id": "0da26e96-2465-4954-a5f2-deac26043329",
   "metadata": {},
   "outputs": [],
   "source": [
    "#This function takes in an unordered array of cells and partitions it into an array of diagonals. \n",
    "def partition_into_layers(newly_invaded_cells):\n",
    "    flat_list = []\n",
    "    num_layers = 0\n",
    "    for list in newly_invaded_cells:\n",
    "        for element in list:\n",
    "            #Find the largest layer in the set of newly invaded cells\n",
    "            if element[0]+element[1] > num_layers:\n",
    "                num_layers = element[0]+element[1]\n",
    "            flat_list.append(element)\n",
    "\n",
    "    invaded_layers = []\n",
    "    \n",
    "    for layer in range(num_layers+1):\n",
    "        layer_i = []\n",
    "        for cell in flat_list:\n",
    "            #Only add a cell if it's not already in the layer, so we are not keeping repeat cells\n",
    "            if cell[0]+cell[1] == layer and (cell[0], cell[1]) not in layer_i:\n",
    "                layer_i.append((cell[0], cell[1]))\n",
    "        invaded_layers.append(layer_i)   \n",
    "    return invaded_layers"
   ]
  },
  {
   "cell_type": "code",
   "execution_count": 9,
   "id": "1042215b-f282-4572-91e6-3ccdf2772d11",
   "metadata": {},
   "outputs": [],
   "source": [
    "#This function specifies a law used to generate shapes. \n",
    "#The current law is a deterministic 'one' law, as it generates shapes which look similar to a pixelated 1. \n",
    "#Change this function to change the law used for layer percolation. \n",
    "#If you require dependence between shapes, you will need to further modify the code. This function generates shapes sequentially and independently.\n",
    "def law(sleep_rate):\n",
    "    shape = [(0,0),(1,0),(1,1), (2,0), (1,2), (0,2)]\n",
    "    return shape"
   ]
  },
  {
   "cell_type": "code",
   "execution_count": 6,
   "id": "46a4936e-be92-4f42-8798-7bf98d20509a",
   "metadata": {},
   "outputs": [],
   "source": [
    "#This function takes in a set of invaded cells separated into diagonals and a sleep rate, \n",
    "#and returns an array of newly invaded cells after one step of the layer percolation process. \n",
    "#The returned array of newly invaded cells is separated into diagonals already\n",
    "def run_layer_percolation_step(invaded_cells, sleep_rate):\n",
    "    newly_invaded_cells = []\n",
    "    #Assumes invaded_cells is an array of diagonals containing cells\n",
    "    num_layers = len(invaded_cells)\n",
    "    shape_array = []\n",
    "    right_offset = 0\n",
    "    for i in range(num_layers):\n",
    "        #For each diagonal, generate a shape from the law\n",
    "        shape_i = law(sleep_rate)\n",
    "        #Add it to the list of shapes\n",
    "        shape_array.append(shape_i)\n",
    "    for i, diagonal in enumerate(invaded_cells):\n",
    "        shape_i = shape_array[i]\n",
    "        for cell in diagonal:\n",
    "            offset_cells = get_offsets(right_offset, cell, shape_i)\n",
    "            newly_invaded_cells.append(offset_cells)\n",
    "        #Layers are formed with overlap of 1\n",
    "        right_offset += width(shape_i)-1\n",
    "    newly_invaded_cells = partition_into_layers(newly_invaded_cells)\n",
    "    return newly_invaded_cells"
   ]
  },
  {
   "cell_type": "markdown",
   "id": "0ce42caa-1b89-4ce1-9ccf-cda9a004ead2",
   "metadata": {},
   "source": [
    "## Running Simulations ## "
   ]
  },
  {
   "cell_type": "code",
   "execution_count": 7,
   "id": "ad5c3e6a-3e1f-4399-aa96-f8c398a92047",
   "metadata": {},
   "outputs": [
    {
     "name": "stdout",
     "output_type": "stream",
     "text": [
      "Iteration: 2\r"
     ]
    }
   ],
   "source": [
    "#Parameters\n",
    "num_iterations = 2\n",
    "sleep_rate = 0.5\n",
    "\n",
    "#Begin with the origin invaded, double [[]] as this is an array of diagonals (which are arrays of cells in the diagonal)\n",
    "invaded_cells = partition_into_layers([[(0,0)]])\n",
    "\n",
    "for i in range(num_iterations):\n",
    "    print(\"Iteration: \"+str(i+1), end=\"\\r\")\n",
    "    invaded_cells = run_layer_percolation_step(invaded_cells, sleep_rate)"
   ]
  },
  {
   "cell_type": "markdown",
   "id": "f9b107c7-4921-4cbe-bbb7-2986462f9d03",
   "metadata": {},
   "source": [
    "## Plotting ##"
   ]
  },
  {
   "cell_type": "code",
   "execution_count": 8,
   "id": "4c72ffd8-72b8-42da-bd79-dea8ef642f7d",
   "metadata": {},
   "outputs": [
    {
     "data": {
      "image/png": "[encoded data removed]",
      "text/plain": [
       "<Figure size 640x480 with 1 Axes>"
      ]
     },
     "metadata": {},
     "output_type": "display_data"
    }
   ],
   "source": [
    "#Formatting, the invaded_cells array is a list of diagonals, so we are unwrapping this into just coordinates\n",
    "points = [pt for diag in invaded_cells for pt in diag]\n",
    "\n",
    "# Find max x and y to size the array\n",
    "max_x = max(p[0] for p in points)\n",
    "max_y = max(p[1] for p in points)\n",
    "\n",
    "# Create 2D numpy array with ones\n",
    "pixel_array = np.ones((max_y + 1, max_x + 1))  # shape = (rows=y, cols=x)\n",
    "\n",
    "# Fill array at each coordinate with 0, want filled cells to be black and empty cells to be white\n",
    "for x, y in points:\n",
    "    pixel_array[y, x] = 0  # Note: y is row, x is column\n",
    "\n",
    "plt.figure()\n",
    "plt.imshow(pixel_array, cmap='gray', interpolation='nearest', origin='lower')\n",
    "plt.xlabel(\"$r$\")\n",
    "plt.ylabel(\"$s$\")\n",
    "#plt.savefig('CombPercolationPlot50.png', bbox_inches='tight', dpi=300)\n",
    "plt.show()"
   ]
  }
 ],
 "metadata": {
  "kernelspec": {
   "display_name": "Python 3 (ipykernel)",
   "language": "python",
   "name": "python3"
  },
  "language_info": {
   "codemirror_mode": {
    "name": "ipython",
    "version": 3
   },
   "file_extension": ".py",
   "mimetype": "text/x-python",
   "name": "python",
   "nbconvert_exporter": "python",
   "pygments_lexer": "ipython3",
   "version": "3.12.2"
  }
 },
 "nbformat": 4,
 "nbformat_minor": 5
}
