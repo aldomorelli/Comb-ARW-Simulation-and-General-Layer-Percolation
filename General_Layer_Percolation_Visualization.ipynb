{
 "cells": [
  {
   "cell_type": "markdown",
   "id": "4170eca4-3def-4e5b-9f2e-e0493062c495",
   "metadata": {},
   "source": [
    "## Introduction ##\n",
    "\n",
    "This notebook is designed to simulate the general layer percolation process. "
   ]
  },
  {
   "cell_type": "code",
   "execution_count": 1,
   "id": "4a8f9d93-6663-48a2-846d-206595c8150b",
   "metadata": {},
   "outputs": [],
   "source": [
    "import random\n",
    "import numpy as np\n",
    "import matplotlib.pyplot as plt"
   ]
  },
  {
   "cell_type": "markdown",
   "id": "a962a400-e50e-4aed-82e7-cb7eef8b81f6",
   "metadata": {},
   "source": [
    "## Simulation ##"
   ]
  },
  {
   "cell_type": "code",
   "execution_count": 2,
   "id": "79048b93-6deb-4b14-88d8-12f9e3c0077c",
   "metadata": {},
   "outputs": [],
   "source": [
    "#Function for offsetting shape associated to each cell\n",
    "def get_offsets(right_offset, cell, shape):\n",
    "    offset_cells = []\n",
    "    for shape_cell in shape:\n",
    "        #For each cell in the shape, take the right coordinate from the shape, take the sleep coordinate from both the shape and the cell\n",
    "        offset_cells.append(tuple(np.array([shape_cell[0], shape_cell[1]])+np.array([right_offset, cell[1]])))\n",
    "    return offset_cells"
   ]
  },
  {
   "cell_type": "code",
   "execution_count": 3,
   "id": "f8d52934-fa78-4c02-ade6-8631eab11ac5",
   "metadata": {},
   "outputs": [],
   "source": [
    "#Function to determine the width of a shape\n",
    "def width(shape):\n",
    "    width = 0\n",
    "    for cell in shape:\n",
    "        if cell[0] > width:\n",
    "            width = cell[0]\n",
    "    return width+1"
   ]
  },
  {
   "cell_type": "code",
   "execution_count": 4,
   "id": "0da26e96-2465-4954-a5f2-deac26043329",
   "metadata": {},
   "outputs": [],
   "source": [
    "#This function takes in an unordered array of cells and partitions it into an array of diagonals. \n",
    "def partition_into_layers(newly_invaded_cells):\n",
    "    flat_list = []\n",
    "    num_layers = 0\n",
    "    for list in newly_invaded_cells:\n",
    "        for element in list:\n",
    "            #Find the largest layer in the set of newly invaded cells\n",
    "            if element[0]+element[1] > num_layers:\n",
    "                num_layers = element[0]+element[1]\n",
    "            flat_list.append(element)\n",
    "\n",
    "    invaded_layers = []\n",
    "    \n",
    "    for layer in range(num_layers+1):\n",
    "        layer_i = []\n",
    "        for cell in flat_list:\n",
    "            #Only add a cell if it's not already in the layer, so we are not keeping repeat cells\n",
    "            if cell[0]+cell[1] == layer and (cell[0], cell[1]) not in layer_i:\n",
    "                layer_i.append((cell[0], cell[1]))\n",
    "        invaded_layers.append(layer_i)   \n",
    "    return invaded_layers"
   ]
  },
  {
   "cell_type": "code",
   "execution_count": 5,
   "id": "1042215b-f282-4572-91e6-3ccdf2772d11",
   "metadata": {},
   "outputs": [],
   "source": [
    "#This function specifies a law used to generate shapes. \n",
    "#The default law is the comb percolation law. \n",
    "#Use mode custom to implement a custom law. Note if you require more dependency between shapes than that of comb percolation\n",
    "#you will need to refactor this code. \n",
    "def law(sleep_rate, inheritance_indicator, mode ='comb'):\n",
    "    match mode:\n",
    "        case 'one':\n",
    "            shape = one_law()\n",
    "        case 'domino':\n",
    "            shape = domino_law()\n",
    "        case 'interval':\n",
    "            shape = interval_law(sleep_rate)\n",
    "        case 'comb':\n",
    "            [shape, new_inheritance_indicator] = comb_law(sleep_rate, inheritance_indicator)\n",
    "        case 'custom':\n",
    "            shape = custom_law()\n",
    "\n",
    "    if mode != 'comb':\n",
    "        new_inheritance_indicator = inheritance_indicator\n",
    "\n",
    "    return [shape, new_inheritance_indicator]"
   ]
  },
  {
   "cell_type": "code",
   "execution_count": 6,
   "id": "c21ebf6c-3e42-4727-8274-4488a85917ed",
   "metadata": {},
   "outputs": [],
   "source": [
    "def one_law():\n",
    "    shape = [(0,0),(1,0),(2,0),(1,1),(1,2),(0,2)]\n",
    "    return shape"
   ]
  },
  {
   "cell_type": "code",
   "execution_count": 7,
   "id": "46d98128-e676-4409-8872-3fbee4844cf1",
   "metadata": {},
   "outputs": [],
   "source": [
    "def domino_law():\n",
    "    if random.getrandbits(1):\n",
    "        shape = [(0,0), (1,0)]\n",
    "    else:\n",
    "        shape = [(0,0),(0,1)]\n",
    "    return shape"
   ]
  },
  {
   "cell_type": "code",
   "execution_count": 8,
   "id": "bae39669-7805-4c80-b07c-aa96cca8a27b",
   "metadata": {},
   "outputs": [],
   "source": [
    "def interval_law(sleep_rate):\n",
    "    shape = []\n",
    "    R = np.random.geometric(1/2) #np geometric is supported on {1,2,...}, so no need to add 1 here.\n",
    "    for i in range(R):\n",
    "        shape.append((i,0))\n",
    "        if np.random.rand() < sleep_rate/(1+sleep_rate):\n",
    "            shape.append((i,1))\n",
    "    return shape"
   ]
  },
  {
   "cell_type": "code",
   "execution_count": 18,
   "id": "de90fcb2-2365-4cc2-9c3e-39ace2c26adb",
   "metadata": {},
   "outputs": [],
   "source": [
    "def comb_law(sleep_rate, inheritance_indicator):\n",
    "    shape = []\n",
    "    U = np.random.geometric(1/2) #np geometric is supported on {1,2,...}, so no need to add 1 here.\n",
    "    r_counter = 0\n",
    "    for i in range(U):\n",
    "        R_i = np.random.geometric(2/3) #np geometric is supported on {1,2,...}, so no need to add 1 here.\n",
    "        if i == 0:\n",
    "            T = inheritance_indicator\n",
    "        else:\n",
    "            if np.random.rand() < sleep_rate/(1+sleep_rate):\n",
    "                T = 1\n",
    "            else:\n",
    "                T = 0\n",
    "    \n",
    "        for j in range(R_i):\n",
    "            s = np.random.rand()\n",
    "            if s < sleep_rate/(1+sleep_rate):\n",
    "                S = 1\n",
    "            else:\n",
    "                S = 0\n",
    "            #Don't want repeat cells added to the shape for performance. \n",
    "            for tuple in {(r_counter, 0), (r_counter, 0), (r_counter, T), (r_counter, S+T)}:\n",
    "                if tuple not in shape:\n",
    "                    shape.append(tuple)\n",
    "            r_counter += 1\n",
    "        r_counter -= 1 #We overcounted the number of rights executed. \n",
    "                \n",
    "    new_inheritance_indicator = T\n",
    "    return [shape, new_inheritance_indicator]"
   ]
  },
  {
   "cell_type": "code",
   "execution_count": 10,
   "id": "46a4936e-be92-4f42-8798-7bf98d20509a",
   "metadata": {},
   "outputs": [],
   "source": [
    "#This function takes in a set of invaded cells separated into diagonals and a sleep rate, \n",
    "#and returns an array of newly invaded cells after one step of the layer percolation process. \n",
    "#The returned array of newly invaded cells is separated into diagonals already\n",
    "def run_layer_percolation_step(invaded_cells, sleep_rate, mode = 'comb'):\n",
    "    newly_invaded_cells = []\n",
    "    #Assumes invaded_cells is an array of diagonals containing cells\n",
    "    num_layers = len(invaded_cells)\n",
    "    shape_array = []\n",
    "    right_offset = 0\n",
    "    if mode == 'comb':\n",
    "        if np.random.rand() < sleep_rate/(1+sleep_rate):\n",
    "            inheritance_indicator = 1\n",
    "        else:\n",
    "            inheritance_indicator = 0\n",
    "    else:\n",
    "        inheritance_indicator = None\n",
    "    for i in range(num_layers):\n",
    "        #For each diagonal, generate a shape from the law\n",
    "        [shape_i, inheritance_indicator] = law(sleep_rate, inheritance_indicator, mode)\n",
    "        #Add it to the list of shapes\n",
    "        shape_array.append(shape_i)\n",
    "    for i, diagonal in enumerate(invaded_cells):\n",
    "        shape_i = shape_array[i]\n",
    "        for cell in diagonal:\n",
    "            offset_cells = get_offsets(right_offset, cell, shape_i)\n",
    "            newly_invaded_cells.append(offset_cells)\n",
    "        #Layers are formed with overlap of 1\n",
    "        right_offset += width(shape_i)-1\n",
    "    newly_invaded_cells = partition_into_layers(newly_invaded_cells)\n",
    "    return newly_invaded_cells"
   ]
  },
  {
   "cell_type": "markdown",
   "id": "0ce42caa-1b89-4ce1-9ccf-cda9a004ead2",
   "metadata": {},
   "source": [
    "## Running Simulations ## "
   ]
  },
  {
   "cell_type": "code",
   "execution_count": 26,
   "id": "ad5c3e6a-3e1f-4399-aa96-f8c398a92047",
   "metadata": {},
   "outputs": [
    {
     "name": "stdout",
     "output_type": "stream",
     "text": [
      "Iteration: 20\r"
     ]
    }
   ],
   "source": [
    "#Parameters\n",
    "num_iterations = 20\n",
    "sleep_rate = 0.5\n",
    "\n",
    "#Begin with the origin invaded, double [[]] as this is an array of diagonals (which are arrays of cells in the diagonal)\n",
    "invaded_cells = partition_into_layers([[(0,0)]])\n",
    "for i in range(num_iterations):\n",
    "    print(\"Iteration: \"+str(i+1), end=\"\\r\")\n",
    "    invaded_cells = run_layer_percolation_step(invaded_cells, sleep_rate)"
   ]
  },
  {
   "cell_type": "markdown",
   "id": "f9b107c7-4921-4cbe-bbb7-2986462f9d03",
   "metadata": {},
   "source": [
    "## Plotting ##"
   ]
  },
  {
   "cell_type": "code",
   "execution_count": 27,
   "id": "4be5c8f2-547b-448c-ac05-cb4a65863e5a",
   "metadata": {},
   "outputs": [
    {
     "data": {
      "image/png": "[encoded data removed]",
      "text/plain": [
       "<Figure size 640x480 with 1 Axes>"
      ]
     },
     "metadata": {},
     "output_type": "display_data"
    }
   ],
   "source": [
    "# Formatting, the invaded_cells array is a list of diagonals, so we are unwrapping this into just coordinates\n",
    "points = [pt for diag in invaded_cells for pt in diag]\n",
    "\n",
    "# Find max x and y to size the array\n",
    "max_x = max(p[0] for p in points)\n",
    "max_y = max(p[1] for p in points)\n",
    "\n",
    "# Create 2D numpy array with ones\n",
    "pixel_array = np.ones((max_y + 1, max_x + 1))  # shape = (rows=y, cols=x)\n",
    "\n",
    "# Fill array at each coordinate with 0, want filled cells to be black and empty cells to be white\n",
    "for x, y in points:\n",
    "    pixel_array[y, x] = 0  # Note: y is row, x is column\n",
    "\n",
    "plt.figure()\n",
    "plt.imshow(pixel_array, cmap='gray', interpolation='nearest', origin='lower')\n",
    "plt.xlabel(\"$r$\")\n",
    "plt.ylabel(\"$s$\")\n",
    "plt.axis('off')\n",
    "#plt.savefig('LayerPercolationPlot.png', bbox_inches='tight', dpi=300)\n",
    "plt.show()"
   ]
  }
 ],
 "metadata": {
  "kernelspec": {
   "display_name": "Python 3 (ipykernel)",
   "language": "python",
   "name": "python3"
  },
  "language_info": {
   "codemirror_mode": {
    "name": "ipython",
    "version": 3
   },
   "file_extension": ".py",
   "mimetype": "text/x-python",
   "name": "python",
   "nbconvert_exporter": "python",
   "pygments_lexer": "ipython3",
   "version": "3.12.2"
  }
 },
 "nbformat": 4,
 "nbformat_minor": 5
}
