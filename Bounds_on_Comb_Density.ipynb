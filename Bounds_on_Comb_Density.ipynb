{
 "cells": [
  {
   "cell_type": "markdown",
   "id": "4170eca4-3def-4e5b-9f2e-e0493062c495",
   "metadata": {},
   "source": [
    "## Introduction ##\n",
    "\n",
    "This notebook is designed to simulate the general layer percolation process. "
   ]
  },
  {
   "cell_type": "code",
   "execution_count": 38,
   "id": "4a8f9d93-6663-48a2-846d-206595c8150b",
   "metadata": {},
   "outputs": [],
   "source": [
    "import random\n",
    "import numpy as np\n",
    "import matplotlib.pyplot as plt\n",
    "from tqdm import tqdm"
   ]
  },
  {
   "cell_type": "markdown",
   "id": "a962a400-e50e-4aed-82e7-cb7eef8b81f6",
   "metadata": {},
   "source": [
    "## Layer Percolation Simulation ##"
   ]
  },
  {
   "cell_type": "code",
   "execution_count": 2,
   "id": "79048b93-6deb-4b14-88d8-12f9e3c0077c",
   "metadata": {},
   "outputs": [],
   "source": [
    "#Function for offsetting shape associated to each cell\n",
    "def get_offsets(right_offset, cell, shape):\n",
    "    offset_cells = []\n",
    "    for shape_cell in shape:\n",
    "        #For each cell in the shape, take the right coordinate from the shape, take the sleep coordinate from both the shape and the cell\n",
    "        offset_cells.append(tuple(np.array([shape_cell[0], shape_cell[1]])+np.array([right_offset, cell[1]])))\n",
    "    return offset_cells"
   ]
  },
  {
   "cell_type": "code",
   "execution_count": 3,
   "id": "f8d52934-fa78-4c02-ade6-8631eab11ac5",
   "metadata": {},
   "outputs": [],
   "source": [
    "#Function to determine the width of a shape\n",
    "def width(shape):\n",
    "    width = 0\n",
    "    for cell in shape:\n",
    "        if cell[0] > width:\n",
    "            width = cell[0]\n",
    "    return width+1"
   ]
  },
  {
   "cell_type": "code",
   "execution_count": 4,
   "id": "0da26e96-2465-4954-a5f2-deac26043329",
   "metadata": {},
   "outputs": [],
   "source": [
    "#This function takes in an unordered array of cells and partitions it into an array of diagonals. \n",
    "def partition_into_layers(newly_invaded_cells):\n",
    "    flat_list = []\n",
    "    num_layers = 0\n",
    "    for list in newly_invaded_cells:\n",
    "        for element in list:\n",
    "            #Find the largest layer in the set of newly invaded cells\n",
    "            if element[0]+element[1] > num_layers:\n",
    "                num_layers = element[0]+element[1]\n",
    "            flat_list.append(element)\n",
    "\n",
    "    invaded_layers = []\n",
    "    \n",
    "    for layer in range(num_layers+1):\n",
    "        layer_i = []\n",
    "        for cell in flat_list:\n",
    "            #Only add a cell if it's not already in the layer, so we are not keeping repeat cells\n",
    "            if cell[0]+cell[1] == layer and (cell[0], cell[1]) not in layer_i:\n",
    "                layer_i.append((cell[0], cell[1]))\n",
    "        invaded_layers.append(layer_i)   \n",
    "    return invaded_layers"
   ]
  },
  {
   "cell_type": "code",
   "execution_count": 16,
   "id": "622447d7-4236-4087-bfbd-31748d69b17a",
   "metadata": {},
   "outputs": [],
   "source": [
    "def max_height(invaded_cells):\n",
    "    max_height = 0\n",
    "    for diag in invaded_cells:\n",
    "        for cell in diag:\n",
    "            if cell[-1] > max_height:\n",
    "                max_height = cell[-1]\n",
    "    return max_height"
   ]
  },
  {
   "cell_type": "code",
   "execution_count": 5,
   "id": "1042215b-f282-4572-91e6-3ccdf2772d11",
   "metadata": {},
   "outputs": [],
   "source": [
    "#This function specifies a law used to generate shapes. \n",
    "#The default law is the comb percolation law. \n",
    "#Use mode custom to implement a custom law. Note if you require more dependency between shapes than that of comb percolation\n",
    "#you will need to refactor this code. \n",
    "def law(sleep_rate, inheritance_indicator, mode ='comb'):\n",
    "    match mode:\n",
    "        case 'one':\n",
    "            shape = one_law()\n",
    "        case 'domino':\n",
    "            shape = domino_law()\n",
    "        case 'interval':\n",
    "            shape = interval_law(sleep_rate)\n",
    "        case 'comb':\n",
    "            [shape, new_inheritance_indicator] = comb_law(sleep_rate, inheritance_indicator)\n",
    "        case 'custom':\n",
    "            shape = custom_law()\n",
    "\n",
    "    if mode != 'comb':\n",
    "        new_inheritance_indicator = inheritance_indicator\n",
    "\n",
    "    return [shape, new_inheritance_indicator]"
   ]
  },
  {
   "cell_type": "code",
   "execution_count": 6,
   "id": "c21ebf6c-3e42-4727-8274-4488a85917ed",
   "metadata": {},
   "outputs": [],
   "source": [
    "def one_law():\n",
    "    shape = [(0,0),(1,0),(2,0),(1,1),(1,2),(0,2)]\n",
    "    return shape"
   ]
  },
  {
   "cell_type": "code",
   "execution_count": 7,
   "id": "46d98128-e676-4409-8872-3fbee4844cf1",
   "metadata": {},
   "outputs": [],
   "source": [
    "def domino_law():\n",
    "    if random.getrandbits(1):\n",
    "        shape = [(0,0), (1,0)]\n",
    "    else:\n",
    "        shape = [(0,0),(0,1)]\n",
    "    return shape"
   ]
  },
  {
   "cell_type": "code",
   "execution_count": 8,
   "id": "bae39669-7805-4c80-b07c-aa96cca8a27b",
   "metadata": {},
   "outputs": [],
   "source": [
    "def interval_law(sleep_rate):\n",
    "    shape = []\n",
    "    R = np.random.geometric(1/2) #np geometric is supported on {1,2,...}, so no need to add 1 here.\n",
    "    for i in range(R):\n",
    "        shape.append((i,0))\n",
    "        if np.random.rand() < sleep_rate/(1+sleep_rate):\n",
    "            shape.append((i,1))\n",
    "    return shape"
   ]
  },
  {
   "cell_type": "code",
   "execution_count": 9,
   "id": "de90fcb2-2365-4cc2-9c3e-39ace2c26adb",
   "metadata": {},
   "outputs": [],
   "source": [
    "def comb_law(sleep_rate, inheritance_indicator):\n",
    "    shape = []\n",
    "    U = np.random.geometric(1/2) #np geometric is supported on {1,2,...}, so no need to add 1 here.\n",
    "    r_counter = 0\n",
    "    for i in range(U):\n",
    "        R_i = np.random.geometric(2/3) #np geometric is supported on {1,2,...}, so no need to add 1 here.\n",
    "        if i == 0:\n",
    "            T = inheritance_indicator\n",
    "        else:\n",
    "            if np.random.rand() < sleep_rate/(1+sleep_rate):\n",
    "                T = 1\n",
    "            else:\n",
    "                T = 0\n",
    "    \n",
    "        for j in range(R_i):\n",
    "            s = np.random.rand()\n",
    "            if s < sleep_rate/(1+sleep_rate):\n",
    "                S = 1\n",
    "            else:\n",
    "                S = 0\n",
    "            #Don't want repeat cells added to the shape for performance. \n",
    "            for tuple in {(r_counter, 0), (r_counter, S), (r_counter, T), (r_counter, S+T)}:\n",
    "                if tuple not in shape:\n",
    "                    shape.append(tuple)\n",
    "            r_counter += 1\n",
    "        r_counter -= 1 #We overcounted the number of rights executed. \n",
    "                \n",
    "    new_inheritance_indicator = T\n",
    "    return [shape, new_inheritance_indicator]"
   ]
  },
  {
   "cell_type": "code",
   "execution_count": 10,
   "id": "ea05100e-ac99-4b0e-a712-5fe41e906b58",
   "metadata": {},
   "outputs": [],
   "source": [
    "#Modify this function if you want to simulate a custom law. \n",
    "def custom_law():\n",
    "    shape = [(0,0)]\n",
    "    return shape"
   ]
  },
  {
   "cell_type": "code",
   "execution_count": 11,
   "id": "46a4936e-be92-4f42-8798-7bf98d20509a",
   "metadata": {},
   "outputs": [],
   "source": [
    "#This function takes in a set of invaded cells separated into diagonals and a sleep rate, \n",
    "#and returns an array of newly invaded cells after one step of the layer percolation process. \n",
    "#The returned array of newly invaded cells is separated into diagonals already\n",
    "def run_layer_percolation_step(invaded_cells, sleep_rate, mode = 'comb'):\n",
    "    newly_invaded_cells = []\n",
    "    #Assumes invaded_cells is an array of diagonals containing cells\n",
    "    num_layers = len(invaded_cells)\n",
    "    shape_array = []\n",
    "    right_offset = 0\n",
    "    if mode == 'comb':\n",
    "        if np.random.rand() < sleep_rate/(1+sleep_rate):\n",
    "            inheritance_indicator = 1\n",
    "        else:\n",
    "            inheritance_indicator = 0\n",
    "    else:\n",
    "        inheritance_indicator = None\n",
    "    for i in range(num_layers):\n",
    "        #For each diagonal, generate a shape from the law\n",
    "        [shape_i, inheritance_indicator] = law(sleep_rate, inheritance_indicator, mode)\n",
    "        #Add it to the list of shapes\n",
    "        shape_array.append(shape_i)\n",
    "    for i, diagonal in enumerate(invaded_cells):\n",
    "        shape_i = shape_array[i]\n",
    "        for cell in diagonal:\n",
    "            offset_cells = get_offsets(right_offset, cell, shape_i)\n",
    "            newly_invaded_cells.append(offset_cells)\n",
    "        #Layers are formed with overlap of 1\n",
    "        right_offset += width(shape_i)-1\n",
    "    newly_invaded_cells = partition_into_layers(newly_invaded_cells)\n",
    "    return newly_invaded_cells"
   ]
  },
  {
   "cell_type": "markdown",
   "id": "0ce42caa-1b89-4ce1-9ccf-cda9a004ead2",
   "metadata": {},
   "source": [
    "## Running Simulations for Lower Bound ## "
   ]
  },
  {
   "cell_type": "code",
   "execution_count": 49,
   "id": "373bfbda-98e3-4d81-9928-367bba9c2123",
   "metadata": {},
   "outputs": [],
   "source": [
    "def simulate_lower_bound(sleep_rate, num_iters):\n",
    "    total_height = 0\n",
    "    if sleep_rate == 0:\n",
    "        return 0\n",
    "    #Run num_iters trials\n",
    "    for i in range(num_iters):\n",
    "        print(i+1, end=\"\\r\")\n",
    "        #For each trial choose a number of steps K~Geo(sleep_rate/(1+sleep_rate))\n",
    "        K = np.random.geometric(sleep_rate/(1+sleep_rate))\n",
    "        invaded_cells = partition_into_layers([[(0,0)]])\n",
    "        #Run the layer percolation process over K steps.\n",
    "        for k in range(K):\n",
    "            invaded_cells = run_layer_percolation_step(invaded_cells, 3*sleep_rate/2, mode = 'interval')\n",
    "        #Find the height of the highest cell in the infected component of (0,0)_0 at step K\n",
    "        height = max_height(invaded_cells)\n",
    "        total_height += height\n",
    "    #Lower bound is one more than the average height of these trials, all scaled by sleep_rate/(1+sleep_rate) \n",
    "    return sleep_rate/(1+sleep_rate)*(1+total_height/num_iters)"
   ]
  },
  {
   "cell_type": "markdown",
   "id": "4e6dec18-ef2d-47f6-b027-8e8da7b38dc2",
   "metadata": {},
   "source": [
    "## Comb and Interval ARW Simulation ##"
   ]
  },
  {
   "cell_type": "code",
   "execution_count": 28,
   "id": "61699056-7143-495d-bfff-be1f90ef66b5",
   "metadata": {},
   "outputs": [],
   "source": [
    "#Helper method for choosing 1 of 3 options. This is called a lot so we want it to be fast. \n",
    "def rand3():\n",
    "    #Find a random integer from 0,1,2. Supposedly fast?\n",
    "    while True:\n",
    "        r = random.getrandbits(2)\n",
    "        if r < 3:\n",
    "            return r"
   ]
  },
  {
   "cell_type": "code",
   "execution_count": 29,
   "id": "41bb756c-cc52-4888-bb4e-db74ba0d4a1a",
   "metadata": {},
   "outputs": [],
   "source": [
    "#Function for adding a particle to the interval. Returns true only if the particle fell into a sink. \n",
    "def add_particle_to_interval(interval, index_col):\n",
    "    length = interval.shape[0]\n",
    "    #If the index we want to move to is outside the length of the interval, we moved into a sink, so do nothing\n",
    "    if index_col >= length or index_col< 0:\n",
    "        #If the particle fell off, we want to find a new active particle\n",
    "        return True\n",
    "    #If the site we moved into has a sleeping particle, wake it up so we have 2 sleeping particles in it. \n",
    "    elif interval[index_col] == -1:\n",
    "        interval[index_col] = 2\n",
    "        #We can keep tracking this active particle.\n",
    "        return False\n",
    "    #Otherwise we have one more sleeping particle. \n",
    "    else:\n",
    "        interval[index_col] += 1\n",
    "        #We can keep tracking this active particle.\n",
    "        return False"
   ]
  },
  {
   "cell_type": "code",
   "execution_count": 30,
   "id": "32b4b6f4-616f-4175-8423-f413cc05aa31",
   "metadata": {},
   "outputs": [],
   "source": [
    "#Function for stabalizing the interval, returns nothing but changes the interval array passed as an argument\n",
    "def stabalize_interval(interval, sleep_rate):\n",
    "    #We begin by searching for the index of an active particle\n",
    "    searching_for_index = True\n",
    "    #Loop while there are still active particles in the interval\n",
    "    while(True):\n",
    "        #If we are not already tracking an active particle, look for a new one\n",
    "        if searching_for_index:\n",
    "            #Find the index of the first site with at least one active particle. If no such index exists we are stable, and so exit. \n",
    "            positive_indices = np.flatnonzero(interval > 0)\n",
    "            if positive_indices.size > 0:\n",
    "                active_index = positive_indices[0]\n",
    "                #Found a new active particle to track\n",
    "                searching_for_index = False\n",
    "            else:\n",
    "                return interval\n",
    "\n",
    "        #If only one particle is in the active site, it can fall asleep \n",
    "        if interval[active_index] == 1:\n",
    "            #r is drawn uniformly from (0,1)\n",
    "            r = random.random()\n",
    "            #If r is small enough (< lambda/(1+lambda)) the particle falls alseep\n",
    "            if r < sleep_rate/(1+sleep_rate):\n",
    "                #Particle is asleep, so the value at the site is -1\n",
    "                interval[active_index] = -1\n",
    "                #Particle fell asleep, so need to find new active particle to track\n",
    "                searching_for_index = True\n",
    "            else:\n",
    "                #If our only active particle moved, we set the entry in the site to 0\n",
    "                interval[active_index] = 0\n",
    "                #Pick a random direction\n",
    "                if bool(random.getrandbits(1)):\n",
    "                    #Moved to the right, so increment the index by 1\n",
    "                    active_index += 1\n",
    "                    searching_for_index = add_particle_to_interval(interval, active_index)\n",
    "                else:\n",
    "                    #Moved to the left, so decrement the index by 1\n",
    "                    active_index -= 1\n",
    "                    searching_for_index = add_particle_to_interval(interval, active_index)\n",
    "        #If multiple active particles, one must move\n",
    "        else:  \n",
    "            #Particle moved so reduce the number by 1\n",
    "            interval[active_index] -= 1\n",
    "            #Move right\n",
    "            if bool(random.getrandbits(1)):\n",
    "                active_index += 1\n",
    "                searching_for_index = add_particle_to_interval(interval, active_index)\n",
    "            #Move left\n",
    "            else:\n",
    "                active_index -= 1\n",
    "                searching_for_index = add_particle_to_interval(interval, active_index)"
   ]
  },
  {
   "cell_type": "code",
   "execution_count": 31,
   "id": "436756da-13df-460c-b0e3-5f325efd9268",
   "metadata": {},
   "outputs": [],
   "source": [
    "def run_simulation_interval(interval_length, sleep_rate, num_trials):\n",
    "    #Start with an estimate of 0 for the density. \n",
    "    interval_density = 0\n",
    "    #The interval begins with active particles at each site\n",
    "    interval = np.ones(interval_length)\n",
    "    #Progress bar so we know about how long things will take\n",
    "    for _ in tqdm(range(num_trials), desc=f\"Running trials (L={interval_length}, r={sleep_rate})\", leave=False):\n",
    "        stabalize_interval(interval, sleep_rate)\n",
    "        #The density is the number of sleeping particles divided by the length, sleeping particles are represented by -1\n",
    "        #-= as we are summing -1 for each sleeping particle left\n",
    "        interval_density -= np.sum(interval)/interval_length\n",
    "        #Add an active particle in the center. \n",
    "        add_particle_to_interval(interval, int(interval_length/2))\n",
    "    #Return the average density over the trials\n",
    "    return interval_density/num_trials"
   ]
  },
  {
   "cell_type": "code",
   "execution_count": 32,
   "id": "b8e7636d-c1a6-4ca5-aa10-a76e8bd25802",
   "metadata": {},
   "outputs": [],
   "source": [
    "def generate_data_interval(interval_lengths, sleep_rates, num_trials_each):\n",
    "    data = np.zeros((len(interval_lengths), len(sleep_rates)))\n",
    "    #Loop over parameters and run simulations\n",
    "    for i, length in enumerate(interval_lengths):\n",
    "        for j, sleep_rate in enumerate(sleep_rates):\n",
    "            data[i, j] = run_simulation_interval(length, sleep_rate, num_trials_each)\n",
    "    return data"
   ]
  },
  {
   "cell_type": "code",
   "execution_count": 33,
   "id": "67e6aa1d-d2d1-4c92-8cec-a271b381689f",
   "metadata": {},
   "outputs": [],
   "source": [
    "#Function for adding particle to the comb. Returns true only if the particle fell into a sink \n",
    "def add_particle_to_comb(comb, index_row, index_col):\n",
    "    length = comb.shape[1]\n",
    "    #If the index we want to move to is outside the length of the comb, we moved into a sink, so do nothing\n",
    "    if index_col >= length or index_col< 0:\n",
    "        #If the particle fell off, we want to find a new active particle\n",
    "        return True\n",
    "    #If the site we moved into has a sleeping particle, wake it up so we have 2 sleeping particles in it. \n",
    "    elif comb[index_row, index_col] == -1:\n",
    "        comb[index_row, index_col] = 2\n",
    "        #We can keep tracking this active particle.\n",
    "        return False\n",
    "    #Otherwise we have one more sleeping particle. \n",
    "    else:\n",
    "        comb[index_row, index_col] += 1\n",
    "        #We can keep tracking this active particle.\n",
    "        return False"
   ]
  },
  {
   "cell_type": "code",
   "execution_count": 34,
   "id": "82a3ed86-11c6-4492-9a41-8ba9012e1011",
   "metadata": {},
   "outputs": [],
   "source": [
    "def sample_stationary_distribution_comb(comb, sleep_rate):\n",
    "    #Start out searching for an active particle\n",
    "    searching_for_index = True\n",
    "    while(True):\n",
    "        #This is expensive, so don't want to run it unless we have to\n",
    "        if searching_for_index:\n",
    "            #Find the index of the first site with at least one active particle. If no such index exists we are stable, and so exit. \n",
    "            positive_indices = np.flatnonzero(comb > 0)\n",
    "            if positive_indices.size > 0:\n",
    "                active_index = np.unravel_index(positive_indices[0], comb.shape)\n",
    "                #Once we find an active particle, want to keep tracking it until it falls off or falls asleep\n",
    "                searching_for_index = False\n",
    "            else:\n",
    "                return comb\n",
    "        #If only one particle is in the active site, it can fall asleep \n",
    "        if comb[active_index] == 1:\n",
    "            r = random.random()\n",
    "            #Entry of -1 means sleeping particle\n",
    "            if r < sleep_rate/(1+sleep_rate):\n",
    "                comb[active_index] = -1\n",
    "                #If a particle falls alseep, we want to find a new active particle to track\n",
    "                searching_for_index = True\n",
    "            else:\n",
    "                #If our only active particle moved, we set the entry in the site to 0\n",
    "                comb[active_index] = 0\n",
    "                #If we are in the tooth, the only place to go is down\n",
    "                if active_index[0] == 0:\n",
    "                    active_index = (active_index[0] + 1, active_index[1])\n",
    "                    searching_for_index = add_particle_to_comb(comb, active_index[0], active_index[1])\n",
    "                else:\n",
    "                    #Otherwise pick a random direction to move in\n",
    "                    direction = rand3()\n",
    "                    #Move up\n",
    "                    if direction == 0:\n",
    "                        active_index = (active_index[0] - 1, active_index[1])\n",
    "                        searching_for_index = add_particle_to_comb(comb, active_index[0], active_index[1])\n",
    "                    #Move right\n",
    "                    elif direction == 1:\n",
    "                        active_index = (active_index[0], active_index[1] + 1)\n",
    "                        searching_for_index = add_particle_to_comb(comb, active_index[0], active_index[1])\n",
    "                    #Move left\n",
    "                    elif direction == 2:\n",
    "                        active_index = (active_index[0], active_index[1] - 1)\n",
    "                        searching_for_index = add_particle_to_comb(comb, active_index[0], active_index[1])\n",
    "        #If multiple active particles, one must move\n",
    "        else:  \n",
    "            #Particle moved so reduce the number by 1\n",
    "            comb[active_index] -= 1\n",
    "            #If in the tooth must move down. \n",
    "            if active_index[0] == 0:\n",
    "                    active_index = (active_index[0] + 1, active_index[1])\n",
    "                    searching_for_index = add_particle_to_comb(comb, active_index[0], active_index[1])\n",
    "            else:\n",
    "                #Pick a random direction to move\n",
    "                direction = rand3()\n",
    "                if direction == 0:\n",
    "                    active_index = (active_index[0] - 1, active_index[1])\n",
    "                    searching_for_index = add_particle_to_comb(comb, active_index[0], active_index[1])\n",
    "                elif direction == 1:\n",
    "                    active_index = (active_index[0], active_index[1] + 1)\n",
    "                    searching_for_index = add_particle_to_comb(comb, active_index[0], active_index[1])\n",
    "                elif direction == 2:\n",
    "                    active_index = (active_index[0], active_index[1] - 1)\n",
    "                    searching_for_index = add_particle_to_comb(comb, active_index[0], active_index[1])"
   ]
  },
  {
   "cell_type": "code",
   "execution_count": 35,
   "id": "ca5c532d-2a05-4d5d-ba59-311b437b66c3",
   "metadata": {},
   "outputs": [],
   "source": [
    "def run_simulation_comb(comb_length, sleep_rate, num_trials):\n",
    "    #Record these densities seperately\n",
    "    tooth_density = 0\n",
    "    spine_density = 0\n",
    "    comb = np.ones((2, comb_length))\n",
    "    for _ in tqdm(range(num_trials), desc=f\"Running trials (L={comb_length}, r={sleep_rate})\", leave=False):\n",
    "        sample_stationary_distribution_comb(comb, sleep_rate)\n",
    "        #Minus as we are summing -1 for each sleeping particle left\n",
    "        tooth_density -= np.sum(comb[0])/comb_length\n",
    "        spine_density -= np.sum(comb[1])/comb_length\n",
    "        #Add a particle in row 1 (the spine) in the center. \n",
    "        add_particle_to_comb(comb, 1, int(comb_length/2))\n",
    "    return [tooth_density / num_trials, spine_density/num_trials]"
   ]
  },
  {
   "cell_type": "code",
   "execution_count": 36,
   "id": "72048b4a-3301-47b5-978d-7384528e604b",
   "metadata": {},
   "outputs": [],
   "source": [
    "def generate_data_comb(comb_lengths, sleep_rates, num_trials_each):\n",
    "    data = np.zeros((len(comb_lengths), len(sleep_rates), 2))\n",
    "    for i, length in enumerate(comb_lengths):\n",
    "        for j, sleep_rate in enumerate(sleep_rates):\n",
    "            data[i, j, :] = run_simulation_comb(length, sleep_rate, num_trials_each)\n",
    "    return data"
   ]
  },
  {
   "cell_type": "markdown",
   "id": "bc6a25fe-e7c4-43de-b904-4d2adee40439",
   "metadata": {},
   "source": [
    "## Running Simulations ## "
   ]
  },
  {
   "cell_type": "code",
   "execution_count": 50,
   "id": "fe31dd97-27eb-49e0-94e9-bc3026525fff",
   "metadata": {},
   "outputs": [
    {
     "name": "stderr",
     "output_type": "stream",
     "text": [
      "                                                                                                                       \r"
     ]
    },
    {
     "name": "stdout",
     "output_type": "stream",
     "text": [
      "1000\r"
     ]
    }
   ],
   "source": [
    "comb_lengths = [250]\n",
    "sleep_rates = np.arange(0, 1.05, 0.1)\n",
    "num_trials = 1000\n",
    "comb_data = generate_data_comb(comb_lengths, sleep_rates, num_trials)\n",
    "interval_data = generate_data_interval(comb_lengths, 3*sleep_rates/2, num_trials)\n",
    "lower_bound_data = []\n",
    "for rate in sleep_rates:\n",
    "    lower_bound_data.append(simulate_lower_bound(rate, num_trials))"
   ]
  },
  {
   "cell_type": "code",
   "execution_count": 55,
   "id": "c0ee0ddc-c269-4c8b-82ce-d6cbf1014eb2",
   "metadata": {},
   "outputs": [],
   "source": [
    "np.savez('comb_ARW_bound_simulation_data', comb_data=comb_data, upper_bound_data=1+interval_data, lower_bound_data = lower_bound_data)"
   ]
  },
  {
   "cell_type": "code",
   "execution_count": 54,
   "id": "0406e6d4-7b2f-4474-9e4a-f07a8af22bd9",
   "metadata": {},
   "outputs": [
    {
     "data": {
      "image/png": "[encoded data removed]",
      "text/plain": [
       "<Figure size 1000x400 with 1 Axes>"
      ]
     },
     "metadata": {},
     "output_type": "display_data"
    }
   ],
   "source": [
    "plt.figure(figsize=(10, 4))\n",
    "\n",
    "plt.plot(sleep_rates, 1+interval_data[0, :], color='b', label='Upper Bound for n=250')\n",
    "plt.plot(sleep_rates, comb_data[0, :, 0]+comb_data[0, :, 1], color='r', label='Total Comb Density for n=250')\n",
    "plt.plot(sleep_rates, lower_bound_data, color='g', label='Lower Bound')\n",
    "\n",
    "\n",
    "plt.xlabel(\"Sleep Rate\")\n",
    "plt.ylabel(\"Density\")\n",
    "plt.title(\"Average Comb Densities and Bound for $n=250$ over 1000 Trials\")\n",
    "\n",
    "plt.legend()\n",
    "plt.savefig('ARW_Density_Bound_Comparison.png', bbox_inches='tight', dpi=300)\n",
    "plt.show()\n",
    "\n",
    "plt.close()"
   ]
  }
 ],
 "metadata": {
  "kernelspec": {
   "display_name": "Python 3 (ipykernel)",
   "language": "python",
   "name": "python3"
  },
  "language_info": {
   "codemirror_mode": {
    "name": "ipython",
    "version": 3
   },
   "file_extension": ".py",
   "mimetype": "text/x-python",
   "name": "python",
   "nbconvert_exporter": "python",
   "pygments_lexer": "ipython3",
   "version": "3.12.2"
  }
 },
 "nbformat": 4,
 "nbformat_minor": 5
}
